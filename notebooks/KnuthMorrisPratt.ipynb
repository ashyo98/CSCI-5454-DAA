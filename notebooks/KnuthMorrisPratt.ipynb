{
 "cells": [
  {
   "cell_type": "code",
   "execution_count": 1,
   "id": "e8ddc311",
   "metadata": {},
   "outputs": [],
   "source": [
    "def computePatternTableOld(pat): \n",
    "    # Compute a pattern table for pattern string pat\n",
    "    m = len(pat)\n",
    "    pat_table = [-1]*m # Initialize it all with -1\n",
    "    k = -1\n",
    "    for i in range(0, m-1): \n",
    "        # iterate through the array\n",
    "        # Loop Invariant: pat[0].. pat[k] is the largest suffix for\n",
    "        #                 pat[0].. pat[i]\n",
    "        #                 if k == -1, no prefix of pat is a suffix for\n",
    "        #                 pat[0] .. pat[i]\n",
    "        \n",
    "        if pat[k+1] == pat[i+1]: # Can we extend the match by one more?\n",
    "            pat_table[i+1] = k + 1 # Yes\n",
    "            k = k + 1\n",
    "        else: \n",
    "            # If pat[0].. pat[k+1] is not a suffix for \n",
    "            # pat[0]..pat[i+1], try pat[0].. pat[pat_table[k]+1] now?\n",
    "            while ( k >= 0 and pat[k+1] != pat[i+1]):\n",
    "                k = pat_table[k]\n",
    "            if pat[k+1] == pat[i+1]:# we found a suffix \n",
    "                pat_table[i+1] = k + 1\n",
    "                k = k + 1\n",
    "            else: # we ended up going all the way to the beginning\n",
    "                pat_table[i+1] = -1\n",
    "                k = -1\n",
    "    return pat_table\n",
    "            "
   ]
  },
  {
   "cell_type": "code",
   "execution_count": 2,
   "id": "4ec7599b",
   "metadata": {},
   "outputs": [],
   "source": [
    "def computePatternTable(pat): \n",
    "    m = len(pat)\n",
    "    j = 0\n",
    "    k = -1\n",
    "    pat_table = [-1]*m # Initialize it all with -1\n",
    "    while j < m-1:\n",
    "        if pat[j+1] == pat[k+1]:\n",
    "            pat_table[j+1] = k+1\n",
    "            (j, k) = (j+1, k+1)\n",
    "        else: \n",
    "            if k == -1:\n",
    "                pat_table[j+1] = -1\n",
    "                j = j + 1\n",
    "            else:\n",
    "                k = pat_table[k]\n",
    "    return pat_table"
   ]
  },
  {
   "cell_type": "code",
   "execution_count": 3,
   "id": "b44be40a",
   "metadata": {},
   "outputs": [
    {
     "name": "stdout",
     "output_type": "stream",
     "text": [
      "[-1, -1, -1, 0, 1]\n"
     ]
    }
   ],
   "source": [
    "pat = \"abcab\"\n",
    "pat_table_old = computePatternTableOld(pat)\n",
    "print(pat_table_old)"
   ]
  },
  {
   "cell_type": "code",
   "execution_count": 3,
   "id": "492669ab",
   "metadata": {},
   "outputs": [
    {
     "name": "stdout",
     "output_type": "stream",
     "text": [
      "[-1, -1, 0, 1, -1, 0, 1, -1, 0, 1, -1, 0, 1, 2, 3, 4, 5, 6, 7]\n",
      "[-1, -1, 0, 1, -1, 0, 1, -1, 0, 1, -1, 0, 1, 2, 3, 4, 5, 6, 7]\n"
     ]
    }
   ],
   "source": [
    "# pat = \"abcabcacabbbabcabc\"\n",
    "pat = \"ababbabbabbababbabb\"\n",
    "pat_table_old = computePatternTableOld(pat)\n",
    "pat_table = computePatternTable(pat)\n",
    "print(pat_table)\n",
    "print(pat_table_old)"
   ]
  },
  {
   "cell_type": "code",
   "execution_count": 5,
   "id": "997e2a6f",
   "metadata": {},
   "outputs": [],
   "source": [
    "def find_match_old(text, pat, pat_table):\n",
    "    k = -1\n",
    "    n = len(text)\n",
    "    m = len(pat)\n",
    "    for i in range(n):\n",
    "        # iterate through the text \n",
    "        #print(i,k)\n",
    "        if text[i] == pat[k+1]:\n",
    "            k = k + 1\n",
    "        else: \n",
    "            # we matched text[i-k-1].. text[i-1] to pat[0].. pat[k]\n",
    "            while (k >= 0 and pat[k+1] != text[i]):\n",
    "                k = pat_table[k]\n",
    "            if pat[k+1] == text[i]:\n",
    "                k = k + 1\n",
    "            else:\n",
    "                k = -1 \n",
    "        #print(f'k = {k}, m = {m}')\n",
    "        if k >= m-1:\n",
    "            print(f'Match found ending at position {i}')\n",
    "            k = pat_table[k]\n",
    "    \n",
    "    return"
   ]
  },
  {
   "cell_type": "code",
   "execution_count": 6,
   "id": "117ccdf5",
   "metadata": {},
   "outputs": [],
   "source": [
    "# Simplified code for finding a match\n",
    "# We presented this in class. \n",
    "def find_match(text, pat, pat_table):\n",
    "    m = len(pat)\n",
    "    n = len(text)\n",
    "    assert len(pat_table) == m\n",
    "    i = -1\n",
    "    j = -1\n",
    "    while i < n-1:\n",
    "        if text[i+1] == pat[j+1]:\n",
    "            (i, j) = (i+1, j+1)\n",
    "        else: \n",
    "            if j == -1:\n",
    "                i = i +1\n",
    "            else: \n",
    "                j = pat_table[j]\n",
    "        if j == m-1:\n",
    "            print(f'Pattern match ending at position: {i}')\n",
    "            j = pat_table[j]\n",
    "    return"
   ]
  },
  {
   "cell_type": "code",
   "execution_count": 7,
   "id": "87241aab",
   "metadata": {},
   "outputs": [],
   "source": [
    "# Simplified code for finding a match\n",
    "# We presented this in class. \n",
    "def find_longest_prefix(text, pat, pat_table):\n",
    "    m = len(pat)\n",
    "    n = len(text)\n",
    "    assert len(pat_table) == m\n",
    "    i = -1\n",
    "    j = -1\n",
    "    max_prefix_len = 0\n",
    "    ans = -1\n",
    "    while i < n-1:\n",
    "        if text[i+1] == pat[j+1]:\n",
    "            (i, j) = (i+1, j+1)\n",
    "        else:\n",
    "            if j == -1:\n",
    "                i = i +1\n",
    "            else: \n",
    "                j = pat_table[j]\n",
    "        if j+1 > max_prefix_len:\n",
    "                max_prefix_len = j+1\n",
    "                ans = i \n",
    "        if j == m-1:\n",
    "            print(f'Pattern match ending at position: {i}')\n",
    "            j = pat_table[j]\n",
    "    print(f\"Longest prefix ends at index: {ans} and is of length: {max_prefix_len}\")\n",
    "    return"
   ]
  },
  {
   "cell_type": "code",
   "execution_count": 13,
   "id": "ce1ee420",
   "metadata": {},
   "outputs": [
    {
     "name": "stdout",
     "output_type": "stream",
     "text": [
      "[-1, -1, -1]\n",
      "Pattern match ending at position: 2\n",
      "Pattern match ending at position: 5\n",
      "Longest prefix ends at index: 2 and is of length: 3\n"
     ]
    }
   ],
   "source": [
    "pat = \"abc\"\n",
    "pat_table = computePatternTable(pat)\n",
    "print(pat_table)\n",
    "find_longest_prefix(\"abcabcaababbabab\", pat, pat_table)"
   ]
  },
  {
   "cell_type": "code",
   "execution_count": 25,
   "id": "bf363a61",
   "metadata": {},
   "outputs": [
    {
     "name": "stdout",
     "output_type": "stream",
     "text": [
      "Pattern match ending at position: 26\n"
     ]
    }
   ],
   "source": [
    "find_match(\"abbabbcababcabcacabbbabcabcabbcabbcabba\", \n",
    "           \"abcabcacabbbabcabc\", pat_table)"
   ]
  },
  {
   "cell_type": "code",
   "execution_count": 26,
   "id": "78d57692",
   "metadata": {},
   "outputs": [
    {
     "name": "stdout",
     "output_type": "stream",
     "text": [
      "Pattern match ending at position: 26\n",
      "Pattern match ending at position: 38\n",
      "Pattern match ending at position: 56\n"
     ]
    }
   ],
   "source": [
    "find_match(\"abbabbcababcabcacabbbabcabcacabbbabcabcabcabcacabbbabcabc\", \n",
    "           \"abcabcacabbbabcabc\", pat_table)"
   ]
  },
  {
   "cell_type": "code",
   "execution_count": 28,
   "id": "e8865d69",
   "metadata": {},
   "outputs": [
    {
     "name": "stdout",
     "output_type": "stream",
     "text": [
      "pattern table: [-1, 0, -1, 0, -1], old: [-1, 0, -1, 0, -1]\n",
      "Pattern match ending at position: 5\n",
      "Pattern match ending at position: 10\n"
     ]
    }
   ],
   "source": [
    "txt = \"AAABABAABABA\" \n",
    "pat = \"AABAB\"\n",
    "pat_table = computePatternTable(pat)\n",
    "pat_table_old = computePatternTableOld(pat)\n",
    "print(f'pattern table: {pat_table}, old: {pat_table_old}')\n",
    "find_match(txt, pat, pat_table)"
   ]
  },
  {
   "cell_type": "code",
   "execution_count": 29,
   "id": "a5b322c2",
   "metadata": {},
   "outputs": [
    {
     "name": "stdout",
     "output_type": "stream",
     "text": [
      "pattern table: [-1, -1, 0, 1, 2], old: [-1, -1, 0, 1, 2]\n",
      "Pattern match ending at position: 4\n",
      "Pattern match ending at position: 6\n",
      "Pattern match ending at position: 13\n",
      "Pattern match ending at position: 20\n"
     ]
    }
   ],
   "source": [
    "txt = \"ABABABABCABABABCABABAC\"\n",
    "pat =  \"ABABA\"\n",
    "pat_table = computePatternTable(pat)\n",
    "pat_table_old = computePatternTableOld(pat)\n",
    "print(f'pattern table: {pat_table}, old: {pat_table_old}')\n",
    "find_match(txt, pat, pat_table)"
   ]
  }
 ],
 "metadata": {
  "kernelspec": {
   "display_name": "Python 3",
   "language": "python",
   "name": "python3"
  },
  "language_info": {
   "codemirror_mode": {
    "name": "ipython",
    "version": 3
   },
   "file_extension": ".py",
   "mimetype": "text/x-python",
   "name": "python",
   "nbconvert_exporter": "python",
   "pygments_lexer": "ipython3",
   "version": "3.9.6"
  },
  "vscode": {
   "interpreter": {
    "hash": "31f2aee4e71d21fbe5cf8b01ff0e069b9275f58929596ceb00d14d90e3e16cd6"
   }
  }
 },
 "nbformat": 4,
 "nbformat_minor": 5
}
